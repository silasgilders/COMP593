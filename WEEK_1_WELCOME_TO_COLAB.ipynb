{
  "nbformat": 4,
  "nbformat_minor": 0,
  "metadata": {
    "colab": {
      "name": "WEEK 1 WELCOME TO COLAB",
      "provenance": [],
      "collapsed_sections": [],
      "toc_visible": true,
      "include_colab_link": true
    },
    "kernelspec": {
      "display_name": "Python 3",
      "name": "python3"
    }
  },
  "cells": [
    {
      "cell_type": "markdown",
      "metadata": {
        "id": "view-in-github",
        "colab_type": "text"
      },
      "source": [
        "<a href=\"https://colab.research.google.com/github/silasgilders/COMP593/blob/main/WEEK_1_WELCOME_TO_COLAB.ipynb\" target=\"_parent\"><img src=\"https://colab.research.google.com/assets/colab-badge.svg\" alt=\"Open In Colab\"/></a>"
      ]
    },
    {
      "cell_type": "markdown",
      "metadata": {
        "id": "GJBs_flRovLc"
      },
      "source": [
        "## **Welcome to COMP 593!**\n",
        "**This notebook was modified by Silas Gilders**\n",
        "\n",
        "For your first lab, we will experiment with running a script, and saving our project to our personal github repositories:"
      ]
    },
    {
      "cell_type": "markdown",
      "metadata": {
        "id": "xn279PBwVnDj"
      },
      "source": [
        "##Installing Dependancies##\n",
        "\n",
        "Dependancies are routines, Objects, and methods that a project requires. We add Dependancies to our project in the form of **Libraries** when we want to unlock functionality that already exists, this could be as simple as file IO or as complex as fully fledged Machine Learning libraries. Libraries can be added to our project manually, by downloading them and placing them in our runtime enviornment, or using a **Package Manager** such as PIP."
      ]
    },
    {
      "cell_type": "markdown",
      "metadata": {
        "id": "-IWb3REjW5T0"
      },
      "source": [
        "Run the below code to download the **pyfiglet** library, which we will use to generate some ASCII art."
      ]
    },
    {
      "cell_type": "code",
      "metadata": {
        "id": "ARUZhh6MS7nA",
        "colab": {
          "base_uri": "https://localhost:8080/"
        },
        "outputId": "62830003-47e2-496d-faa2-193350975a6c"
      },
      "source": [
        "pip install pyfiglet\n"
      ],
      "execution_count": 1,
      "outputs": [
        {
          "output_type": "stream",
          "name": "stdout",
          "text": [
            "Collecting pyfiglet\n",
            "  Downloading pyfiglet-0.8.post1-py2.py3-none-any.whl (865 kB)\n",
            "\u001b[K     |████████████████████████████████| 865 kB 4.3 MB/s \n",
            "\u001b[?25hInstalling collected packages: pyfiglet\n",
            "Successfully installed pyfiglet-0.8.post1\n"
          ]
        }
      ]
    },
    {
      "cell_type": "markdown",
      "metadata": {
        "id": "SNXKhb5XXqF4"
      },
      "source": [
        "There are *hundreds of thousands* of python libraries at your disposal. Some may suit your needs better than others depending on the goals of your scripts or applications. The [PyPi Repository](https://https://pypi.org/) contains a serchable database of packages that are installable via the pip package manager.\n",
        "\n",
        "Run the code below to get an idea of the number of packages that are included for your user within Colab. You don't need to know what all of these do, but it should indicate that python is a very powerful language."
      ]
    },
    {
      "cell_type": "code",
      "metadata": {
        "id": "C7A8viiJXiDs"
      },
      "source": [
        "pip list"
      ],
      "execution_count": null,
      "outputs": []
    },
    {
      "cell_type": "markdown",
      "metadata": {
        "id": "zopYZ3PcY6hR"
      },
      "source": [
        "If you would like to see if pyfiglet was installed, you could scan the list above, or you could **pipe** the output of `pip list` to a console command known as `grep` that will filter for specific strings. This is an example of **redirecting output,** which you have learned about already.\n",
        "\n",
        "\n"
      ]
    },
    {
      "cell_type": "code",
      "metadata": {
        "id": "oAMcMjbLZMIE"
      },
      "source": [
        "pip list | grep pyfiglet "
      ],
      "execution_count": null,
      "outputs": []
    },
    {
      "cell_type": "markdown",
      "metadata": {
        "id": "gt5dp771Yc2c"
      },
      "source": [
        "# Writing Our Script"
      ]
    },
    {
      "cell_type": "code",
      "source": [
        "from pyfiglet import Figlet\n",
        "f = Figlet(font='slant')\n",
        "print(f.renderText('Ballin, but at what cost?'))\n",
        "\n",
        "#print(f.getDirection())\n",
        " \n",
        "print(f.getFonts())\n",
        "#fonts =f.getFonts()\n",
        "#num_fonts = len(fonts)\n",
        "\n",
        "#print(\"There are\", num_fonts, \"different fonts! <3\")\n",
        "#for font in fonts:\n",
        "  #rint(font)\n",
        "#print(f.getJustify())\n",
        "\n",
        "print(f.setFont(font= 'alligator2'))\n",
        "print(f.rendertext(\"good morning!\"))"
      ],
      "metadata": {
        "colab": {
          "base_uri": "https://localhost:8080/",
          "height": 480
        },
        "id": "XrIu04Nv9zwX",
        "outputId": "be8b5156-adc0-4425-89be-4fdbd287699a"
      },
      "execution_count": 36,
      "outputs": [
        {
          "output_type": "stream",
          "name": "stdout",
          "text": [
            "    ____        _____            __          __           __ \n",
            "   / __ )____ _/ / (_)___       / /_  __  __/ /_   ____ _/ /_\n",
            "  / __  / __ `/ / / / __ \\     / __ \\/ / / / __/  / __ `/ __/\n",
            " / /_/ / /_/ / / / / / / /    / /_/ / /_/ / /_   / /_/ / /_  \n",
            "/_____/\\__,_/_/_/_/_/ /_( )  /_.___/\\__,_/\\__/   \\__,_/\\__/  \n",
            "                        |/                                   \n",
            "           __          __                     __ ___ \n",
            " _      __/ /_  ____ _/ /_   _________  _____/ //__ \\\n",
            "| | /| / / __ \\/ __ `/ __/  / ___/ __ \\/ ___/ __// _/\n",
            "| |/ |/ / / / / /_/ / /_   / /__/ /_/ (__  ) /_ /_/  \n",
            "|__/|__/_/ /_/\\__,_/\\__/   \\___/\\____/____/\\__/(_)   \n",
            "                                                     \n",
            "\n",
            "['courb', 'rainbow_', 'stacey', 'britebi', 'hex', 'short', 'alligator2', 'hollywood', 'cosmike', 'helvi', 'clb8x8', 'fbr_stri', 'hyper___', '5x7', 'unarmed_', 'helvb', 'future_6', 'ebbs_2__', 't__of_ap', 'ghost_bo', 'joust___', 'platoon_', 'dotmatrix', 'e__fist_', 'street_s', 'tanja', 'pod_____', 'zone7___', 'italics_', 'cyberlarge', 'times', 'xsansi', 'twopoint', 'fair_mea', 'eftiwater', 'small', 'cursive', 'timesofl', 'rectangles', 'fender', 'katakana', 'sbooki', 'fbr_tilt', 'smscript', 'atc_____', 'bigchief', 'xsansbi', 'mini', 'battlesh', 'jazmine', 'rad_phan', 'rockbox_', 'f15_____', 'rci_____', 'chartr', 'sm______', 'bubble__', 'rok_____', 'hades___', 'flyn_sh', 'dwhistled', 'nancyj', 'starwars', 'italic', 'sketch_s', 'zig_zag_', 'xtimes', 'runic', 'alligator', 'avatar', 'triad_st', 'characte', 'tomahawk', 'mad_nurs', 'c2______', 'smkeyboard', 'colossal', 'lexible_', 'caligraphy', 'outrun__', 'speed', 'utopiabi', 'faces_of', 'contessa', 'devilish', 'trashman', 'jerusalem', 'krak_out', 'marquee', 'decimal', 'cybermedium', 'twin_cob', 'linux', 'gradient', 'charact3', 'cybersmall', 'utopia', 'subteran', 'lockergnome', 'ok_beer_', 'defleppard', 'script', 'druid___', 'graffiti', 'bell', 'eftitalic', 'acrobatic', 'yie_ar_k', 'basic', 'xsansb', 'hypa_bal', 'clb8x10', 'cli8x8', 'vortron_', 'char4___', 'doh', 'xhelvbi', '6x10', 'mnemonic', 'fbr12___', 'letterw3', 'd_dragon', 'xsans', 'clr4x6', 'stencil1', 'fraktur', '3x5', 'tec_7000', 'arrows', 'xcouri', 'new_asci', 'isometric3', 'charact1', 'atc_gran', 'sansi', 'clr5x10', 'ascii___', 'rounded', 'kban', 'spc_demo', 'ts1_____', 'poison', 'isometric4', 'tiles', 'clr5x8', 'grand_pr', 'fp2_____', 'thick', 'xbrite', 'tsm_____', 'convoy__', 'clr6x10', 'dcs_bfmo', 'asslt__m', 'future_7', 'beer_pub', 'caus_in_', 'road_rai', 'graceful', 'ntgreek', 'tsn_base', 'future_4', 'skate_ro', 'clb6x10', 'term', 'helvbi', 'lazy_jon', 'mayhem_d', 'banner3', 'trek', 'puffy', 'standard', 'demo_m__', 'letters', 'deep_str', 'sblood', 'nfi1____', 'fireing_', 'clr8x10', 'npn_____', 'diamond', 'super_te', '64f1____', 'charset_', 'a_zooloo', 'relief', 'mcg_____', 'eftifont', 'rowancap', 'sbookb', 'stealth_', 'gauntlet', 'c_ascii_', 'britei', 'xchartr', 'nancyj-fancy', 'pacos_pe', 'xhelvi', 'couri', 'mig_ally', 'tinker-toy', 'demo_1__', '5lineoblique', 'xbritebi', 'ebbs_1__', 'ttyb', 'isometric1', 'maxfour', 'etcrvs__', 'gothic__', '5x8', 'clr6x6', 'block', 'fairligh', 'xcour', 'crawford', 'banner3-D', 'phonix__', 'mirror', 'magic_ma', 'clr5x6', 'weird', 'eftiwall', 'slscript', 'nipples', 'tec1____', 'xttyb', 'sansb', 'ucf_fan_', 'eca_____', 'morse', 'aquaplan', 'mshebrew210', 'char3___', 'z-pilot_', 'xsbookb', 'rally_sp', 'ticksslant', 'pebbles', 'assalt_m', 'tombstone', 'cour', 'star_war', 'univers', 'tubular', 'tty', 'mike', 'hills___', 'os2', 'madrid', 'shimrod', 'p_skateb', 'wavy', 'panther_', 'nancyj-underlined', 'tengwar', 'smtengwar', 'tsalagi', 'doom', 'baz__bil', 'utopiab', 'relief2', 'future_3', 'runyc', 'roman___', 'stellar', 'space_op', 'sans', 'heroboti', 'kgames_i', 'rot13', 'charact4', 'p_s_h_m_', 'usa_pq__', 'future_5', 'xsbooki', 'ripper!_', 'clr8x8', 'greek', 'bulbhead', 'ugalympi', 'contrast', 'roman', 'peaks', 'finalass', 'ticks', 'chartri', 'whimsy', 'slide', 'r2-d2___', 'ti_pan__', 'drpepper', 'larry3d', 'cosmic', 'serifcap', 'digital', 'ogre', 'odel_lak', 'kik_star', 'usa_____', 'future_8', 'big', 'heavy_me', 'eftirobot', 'gothic', 'xtty', 'tecrvs__', 'double', 'barbwire', 'fantasy_', 'rampage_', '1943____', 'lcd', 'calgphy2', 'clr7x10', 'epic', 'top_duck', 'coinstak', 'binary', 'sansbi', 'type_set', 'fbr2____', 'xsbook', 'home_pak', 'thin', 'com_sen_', 'demo_2__', 'house_of', 'war_of_w', 'raw_recu', 'rad_____', 'fp1_____', 'char2___', 'octal', 'xhelvb', 'lean', 'banner', 'usaflag', 'letter_w', 'fourtops', 'advenger', 'future_2', 'slant', 'briteb', 'radical_', 'stampatello', 'straight', 'c1______', 'stop', 'invita', 'rally_s2', 'smshadow', 'taxi____', 'skateroc', 'o8', 'threepoint', 'rev', 'fbr1____', 'green_be', 'catwalk', 'clr6x8', 'asc_____', 'xcourbi', 'xbritei', 'courbi', 'isometric2', 'goofy', 'skateord', 'funky_dr', 'high_noo', 'nvscript', '3-d', 'modern__', 'helv', 'fuzzy', 'smisome1', 'pawn_ins', 'eftipiti', 'platoon2', 'moscow', 'notie_ca', 'xhelv', 'b_m__200', 'sbook', '4x4_offr', 'broadway', 'stencil2', 'chunky', 'banner4', 'master_o', 'rozzo', 'yie-ar__', 'inc_raw_', 'rastan__', 'pawp', 'brite', 'eftichess', 'charact6', 'xcourb', 'xbriteb', '6x9', 'bubble_b', 'bubble', 'pepper', 'pyramid', 'alphabet', 'script__', 'shadow', 'tav1____', 'utopiai', 'charact5', 'char1___', 'sbookbi', 'battle_s', 'ivrit', 'computer', 'future_1', 'coil_cop', 'smslant', 'charact2', 'clr7x8', 'xchartri', 'c_consen', 'xsbookbi', 'cricket']\n",
            "None\n"
          ]
        },
        {
          "output_type": "error",
          "ename": "AttributeError",
          "evalue": "ignored",
          "traceback": [
            "\u001b[0;31m---------------------------------------------------------------------------\u001b[0m",
            "\u001b[0;31mAttributeError\u001b[0m                            Traceback (most recent call last)",
            "\u001b[0;32m<ipython-input-36-d22d72b47003>\u001b[0m in \u001b[0;36m<module>\u001b[0;34m()\u001b[0m\n\u001b[1;32m     15\u001b[0m \u001b[0;34m\u001b[0m\u001b[0m\n\u001b[1;32m     16\u001b[0m \u001b[0mprint\u001b[0m\u001b[0;34m(\u001b[0m\u001b[0mf\u001b[0m\u001b[0;34m.\u001b[0m\u001b[0msetFont\u001b[0m\u001b[0;34m(\u001b[0m\u001b[0mfont\u001b[0m\u001b[0;34m=\u001b[0m \u001b[0;34m'alligator2'\u001b[0m\u001b[0;34m)\u001b[0m\u001b[0;34m)\u001b[0m\u001b[0;34m\u001b[0m\u001b[0;34m\u001b[0m\u001b[0m\n\u001b[0;32m---> 17\u001b[0;31m \u001b[0mprint\u001b[0m\u001b[0;34m(\u001b[0m\u001b[0mf\u001b[0m\u001b[0;34m.\u001b[0m\u001b[0mrendertext\u001b[0m\u001b[0;34m(\u001b[0m\u001b[0;34m\"good morning!\"\u001b[0m\u001b[0;34m)\u001b[0m\u001b[0;34m)\u001b[0m\u001b[0;34m\u001b[0m\u001b[0;34m\u001b[0m\u001b[0m\n\u001b[0m",
            "\u001b[0;31mAttributeError\u001b[0m: 'Figlet' object has no attribute 'rendertext'"
          ]
        }
      ]
    },
    {
      "cell_type": "markdown",
      "metadata": {
        "id": "Hh36394HaB3g"
      },
      "source": [
        "The intention of this Colab introduction is to get you familiar with using google Colab to accomplish scripting goals. Today, we will be using the `pyfiglet` library we have just installed to output some text. To understand the methods available to us in `pyfiglet` we can look up [the github repository.](https://github.com/pwaller/pyfiglet)\n",
        "\n",
        "***Remember: Since open source packages are at the mercy of their developers or maintainers, comprehensive documentation is never a guarantee.***\n",
        "\n",
        "The help documentation outlines a command line `--help` argument, which means that documentation exists. We can't call command line arguments for imported libraries in colab, but we *can* accomplish the same goal in colab by using the python `help([Object])` function."
      ]
    },
    {
      "cell_type": "code",
      "metadata": {
        "id": "zR6mZpfkgRxd",
        "colab": {
          "base_uri": "https://localhost:8080/"
        },
        "outputId": "d8408b2a-112d-4f15-d097-911a6923ef67"
      },
      "source": [
        "from pyfiglet import Figlet\n",
        "\n",
        "help(Figlet)"
      ],
      "execution_count": 9,
      "outputs": [
        {
          "output_type": "stream",
          "name": "stdout",
          "text": [
            "Help on class Figlet in module pyfiglet:\n",
            "\n",
            "class Figlet(builtins.object)\n",
            " |  Figlet(font='standard', direction='auto', justify='auto', width=80)\n",
            " |  \n",
            " |  Main figlet class.\n",
            " |  \n",
            " |  Methods defined here:\n",
            " |  \n",
            " |  __init__(self, font='standard', direction='auto', justify='auto', width=80)\n",
            " |      Initialize self.  See help(type(self)) for accurate signature.\n",
            " |  \n",
            " |  getDirection(self)\n",
            " |  \n",
            " |  getFonts(self)\n",
            " |  \n",
            " |  getJustify(self)\n",
            " |  \n",
            " |  renderText(self, text)\n",
            " |  \n",
            " |  setFont(self, **kwargs)\n",
            " |  \n",
            " |  ----------------------------------------------------------------------\n",
            " |  Data descriptors defined here:\n",
            " |  \n",
            " |  __dict__\n",
            " |      dictionary for instance variables (if defined)\n",
            " |  \n",
            " |  __weakref__\n",
            " |      list of weak references to the object (if defined)\n",
            " |  \n",
            " |  direction\n",
            " |  \n",
            " |  justify\n",
            "\n"
          ]
        }
      ]
    },
    {
      "cell_type": "markdown",
      "metadata": {
        "id": "UxKlfQJrmq4N"
      },
      "source": [
        "Using this function we can see that the `Figlet` object has several methods available. This will bring us to your task:\n",
        "\n",
        "\n",
        "**In the editor below, finish a script that accomplishes the following goals:**\n",
        "\n",
        "1.   Prompt the user to select from a list of 5 fonts.\n",
        "2.   Prompt the user to input the string they would like output in that font.\n",
        "3.   Render the text using the selected font.\n",
        "\n",
        "*Hint:* Call the `getFonts()` method to get a list of the available fonts."
      ]
    },
    {
      "cell_type": "code",
      "metadata": {
        "id": "b2y8sufRoEpR",
        "colab": {
          "base_uri": "https://localhost:8080/"
        },
        "outputId": "ea24d840-06f9-4972-e9d5-40d8317484ed"
      },
      "source": [
        "from pyfiglet import Figlet\n",
        "\n",
        "#Instantiate a Figlet Object\n",
        "figlet = Figlet()\n",
        "\n",
        "font_options = ['slant', 'rainbow_', 'hex', 'stacey', 'short']\n",
        "print(\"select a font:\")\n",
        "count = 0\n",
        "for font in font_options:\n",
        "    count += 1\n",
        "    print(str(count) + \".\", font)\n",
        "\n",
        "selection = int(input())\n",
        "if selection == 1:\n",
        "    figlet.setFont(font= font_options[0])\n",
        "if selection == 2:\n",
        "    figlet.setFont(font= font_options[1])\n",
        "if selection == 3:\n",
        "  figlet.setFont(font= font_options[2])\n",
        "if selection == 4:\n",
        "    figlet.setFont(font= font_options[3])\n",
        "if selection == 5:\n",
        "    figlet.setFont(font= font_options[4])\n",
        "msg = input(\"Please enter a message: \")\n",
        "print(figlet.renderText(msg))\n"
      ],
      "execution_count": 128,
      "outputs": [
        {
          "output_type": "stream",
          "name": "stdout",
          "text": [
            "select a font:\n",
            "1. slant\n",
            "2. rainbow_\n",
            "3. hex\n",
            "4. stacey\n",
            "5. short\n",
            "2\n",
            "Please enter a message: Hi\n",
            "# #     # ### ## \n",
            "##      # ### ## \n",
            "##  ##  # ### ## \n",
            "## #### # ### ## \n",
            "#### ## # ### ## \n",
            "###  ## # ### ## \n",
            "##   ## # ### ## \n",
            "    ##  # ### ## \n",
            "\n"
          ]
        }
      ]
    },
    {
      "cell_type": "markdown",
      "metadata": {
        "id": "wXiyORkQqUfz"
      },
      "source": [
        "# Submitting your Script"
      ]
    },
    {
      "cell_type": "markdown",
      "metadata": {
        "id": "eUMXNhytqZY6"
      },
      "source": [
        "Once you have succesfully completed your script, make sure to save it to your github account. (Take a look [at the official colab instructions](https://colab.research.google.com/github/googlecolab/colabtools/blob/master/notebooks/colab-github-demo.ipynb) if you need a refresher.)"
      ]
    }
  ]
}